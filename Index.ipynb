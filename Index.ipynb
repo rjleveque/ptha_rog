{
 "cells": [
  {
   "cell_type": "markdown",
   "metadata": {},
   "source": [
    "# Start here\n",
    "\n",
    "If you want to run these notebooks on your own computer, you need to have [Jupyter](http://www.jupyter.org) installed along with NumPy and Matplotlib. You can get all of this via [Anaconda](https://www.continuum.io/downloads), for example.\n",
    "\n",
    "Then you can clone the Github repository containing the notebooks:\n",
    "\n",
    "    git clone https://github.com/rjleveque/ptha_rog\n",
    "\n",
    "Instead you can run them on the cloud server [binder](http://mybinder.org) using [this link](http://mybinder.org:/repo/rjleveque/ptha_rog).  It may take a while for the notebook server to launch."
   ]
  },
  {
   "cell_type": "markdown",
   "metadata": {},
   "source": [
    "# Recommended order to view the notebooks:\n",
    "\n",
    "These notebooks explain the main ideas:\n",
    "\n",
    "- [Hazard_Maps.ipynb](Hazard_Maps.ipynb)\n",
    "- [Hazard_Curves.ipynb](Hazard_Curves.ipynb)\n",
    "\n",
    "Then this notebook explains more details and illustrates how to plot things using some pre-computed tsunami simulation results:\n",
    "\n",
    "- [Make_Hazard_Curves_and_Maps.ipynb](Make_Hazard_Curves_and_Maps.ipynb)\n",
    "\n"
   ]
  }
 ],
 "metadata": {
  "kernelspec": {
   "display_name": "Python 2",
   "language": "python",
   "name": "python2"
  },
  "language_info": {
   "codemirror_mode": {
    "name": "ipython",
    "version": 3
   },
   "file_extension": ".py",
   "mimetype": "text/x-python",
   "name": "python",
   "nbconvert_exporter": "python",
   "pygments_lexer": "ipython3",
   "version": "3.5.2"
  }
 },
 "nbformat": 4,
 "nbformat_minor": 1
}
